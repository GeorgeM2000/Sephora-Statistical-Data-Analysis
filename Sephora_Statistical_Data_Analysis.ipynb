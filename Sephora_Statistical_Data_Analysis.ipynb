{
  "nbformat": 4,
  "nbformat_minor": 0,
  "metadata": {
    "colab": {
      "provenance": [],
      "collapsed_sections": [
        "DVWmdUQ2XDTZ"
      ]
    },
    "kernelspec": {
      "name": "ir",
      "display_name": "R"
    },
    "language_info": {
      "name": "R"
    }
  },
  "cells": [
    {
      "cell_type": "markdown",
      "source": [
        "# Libraries"
      ],
      "metadata": {
        "id": "DVWmdUQ2XDTZ"
      }
    },
    {
      "cell_type": "code",
      "source": [
        "install.packages(\"readxl\")"
      ],
      "metadata": {
        "colab": {
          "base_uri": "https://localhost:8080/"
        },
        "id": "NG7E3pEzW00d",
        "outputId": "3e1631c7-17d9-4769-a7c6-dcdb2db68c22"
      },
      "execution_count": 1,
      "outputs": [
        {
          "output_type": "stream",
          "name": "stderr",
          "text": [
            "Installing package into ‘/usr/local/lib/R/site-library’\n",
            "(as ‘lib’ is unspecified)\n",
            "\n"
          ]
        }
      ]
    },
    {
      "cell_type": "code",
      "source": [
        "install.packages(\"ggplot2\")"
      ],
      "metadata": {
        "colab": {
          "base_uri": "https://localhost:8080/"
        },
        "id": "BLrwhvvR2siT",
        "outputId": "50c0c1c6-8e40-4eaa-dc15-ac84af5d214d"
      },
      "execution_count": 14,
      "outputs": [
        {
          "output_type": "stream",
          "name": "stderr",
          "text": [
            "Installing package into ‘/usr/local/lib/R/site-library’\n",
            "(as ‘lib’ is unspecified)\n",
            "\n"
          ]
        }
      ]
    },
    {
      "cell_type": "markdown",
      "source": [
        "# Dataset and Data Exploration"
      ],
      "metadata": {
        "id": "tv8VOz5AXG8r"
      }
    },
    {
      "cell_type": "code",
      "source": [
        "library(readxl)\n",
        "library(ggplot2)\n",
        "library(dplyr)\n"
      ],
      "metadata": {
        "id": "40TovejyXClh"
      },
      "execution_count": null,
      "outputs": []
    },
    {
      "cell_type": "code",
      "execution_count": 3,
      "metadata": {
        "id": "gW0bfS_lUaAl"
      },
      "outputs": [],
      "source": [
        "sephora_df <- read_excel('sephora.xlsx')"
      ]
    },
    {
      "cell_type": "code",
      "source": [
        "head(sephora_df)"
      ],
      "metadata": {
        "colab": {
          "base_uri": "https://localhost:8080/",
          "height": 286
        },
        "id": "AZeYxz85XQIR",
        "outputId": "3d215253-ba1c-44dd-9304-aa78cf5a420b"
      },
      "execution_count": 4,
      "outputs": [
        {
          "output_type": "display_data",
          "data": {
            "text/html": [
              "<table class=\"dataframe\">\n",
              "<caption>A tibble: 6 × 10</caption>\n",
              "<thead>\n",
              "\t<tr><th scope=col>id</th><th scope=col>brand</th><th scope=col>category</th><th scope=col>name</th><th scope=col>rating</th><th scope=col>number_of_reviews</th><th scope=col>love</th><th scope=col>price</th><th scope=col>MarketingFlags</th><th scope=col>how_to_use</th></tr>\n",
              "\t<tr><th scope=col>&lt;dbl&gt;</th><th scope=col>&lt;chr&gt;</th><th scope=col>&lt;chr&gt;</th><th scope=col>&lt;chr&gt;</th><th scope=col>&lt;dbl&gt;</th><th scope=col>&lt;dbl&gt;</th><th scope=col>&lt;dbl&gt;</th><th scope=col>&lt;dbl&gt;</th><th scope=col>&lt;chr&gt;</th><th scope=col>&lt;dbl&gt;</th></tr>\n",
              "</thead>\n",
              "<tbody>\n",
              "\t<tr><td>2044816</td><td>Acqua Di Parma</td><td>Cologne</td><td>Colonia         </td><td>4.5</td><td>76</td><td>2700</td><td> 66</td><td>online only</td><td>0</td></tr>\n",
              "\t<tr><td>1417567</td><td>Acqua Di Parma</td><td>Perfume</td><td>Arancia di Capri</td><td>4.5</td><td>26</td><td>2600</td><td>180</td><td>online only</td><td>0</td></tr>\n",
              "\t<tr><td>1417617</td><td>Acqua Di Parma</td><td>Perfume</td><td>Mirto di Panarea</td><td>4.5</td><td>23</td><td>2900</td><td>120</td><td>online only</td><td>0</td></tr>\n",
              "\t<tr><td>1417609</td><td>Acqua Di Parma</td><td>Perfume</td><td>Fico di Amalfi  </td><td>4.5</td><td>79</td><td>2600</td><td>180</td><td>online only</td><td>0</td></tr>\n",
              "\t<tr><td>1638832</td><td>Acqua Di Parma</td><td>Perfume</td><td>Rosa Nobile     </td><td>4.5</td><td>79</td><td>5000</td><td>210</td><td>online only</td><td>0</td></tr>\n",
              "\t<tr><td>1284462</td><td>Acqua Di Parma</td><td>Cologne</td><td>Colonia Essenza </td><td>5.0</td><td>13</td><td> 719</td><td>120</td><td>online only</td><td>0</td></tr>\n",
              "</tbody>\n",
              "</table>\n"
            ],
            "text/markdown": "\nA tibble: 6 × 10\n\n| id &lt;dbl&gt; | brand &lt;chr&gt; | category &lt;chr&gt; | name &lt;chr&gt; | rating &lt;dbl&gt; | number_of_reviews &lt;dbl&gt; | love &lt;dbl&gt; | price &lt;dbl&gt; | MarketingFlags &lt;chr&gt; | how_to_use &lt;dbl&gt; |\n|---|---|---|---|---|---|---|---|---|---|\n| 2044816 | Acqua Di Parma | Cologne | Colonia          | 4.5 | 76 | 2700 |  66 | online only | 0 |\n| 1417567 | Acqua Di Parma | Perfume | Arancia di Capri | 4.5 | 26 | 2600 | 180 | online only | 0 |\n| 1417617 | Acqua Di Parma | Perfume | Mirto di Panarea | 4.5 | 23 | 2900 | 120 | online only | 0 |\n| 1417609 | Acqua Di Parma | Perfume | Fico di Amalfi   | 4.5 | 79 | 2600 | 180 | online only | 0 |\n| 1638832 | Acqua Di Parma | Perfume | Rosa Nobile      | 4.5 | 79 | 5000 | 210 | online only | 0 |\n| 1284462 | Acqua Di Parma | Cologne | Colonia Essenza  | 5.0 | 13 |  719 | 120 | online only | 0 |\n\n",
            "text/latex": "A tibble: 6 × 10\n\\begin{tabular}{llllllllll}\n id & brand & category & name & rating & number\\_of\\_reviews & love & price & MarketingFlags & how\\_to\\_use\\\\\n <dbl> & <chr> & <chr> & <chr> & <dbl> & <dbl> & <dbl> & <dbl> & <chr> & <dbl>\\\\\n\\hline\n\t 2044816 & Acqua Di Parma & Cologne & Colonia          & 4.5 & 76 & 2700 &  66 & online only & 0\\\\\n\t 1417567 & Acqua Di Parma & Perfume & Arancia di Capri & 4.5 & 26 & 2600 & 180 & online only & 0\\\\\n\t 1417617 & Acqua Di Parma & Perfume & Mirto di Panarea & 4.5 & 23 & 2900 & 120 & online only & 0\\\\\n\t 1417609 & Acqua Di Parma & Perfume & Fico di Amalfi   & 4.5 & 79 & 2600 & 180 & online only & 0\\\\\n\t 1638832 & Acqua Di Parma & Perfume & Rosa Nobile      & 4.5 & 79 & 5000 & 210 & online only & 0\\\\\n\t 1284462 & Acqua Di Parma & Cologne & Colonia Essenza  & 5.0 & 13 &  719 & 120 & online only & 0\\\\\n\\end{tabular}\n",
            "text/plain": [
              "  id      brand          category name             rating number_of_reviews\n",
              "1 2044816 Acqua Di Parma Cologne  Colonia          4.5    76               \n",
              "2 1417567 Acqua Di Parma Perfume  Arancia di Capri 4.5    26               \n",
              "3 1417617 Acqua Di Parma Perfume  Mirto di Panarea 4.5    23               \n",
              "4 1417609 Acqua Di Parma Perfume  Fico di Amalfi   4.5    79               \n",
              "5 1638832 Acqua Di Parma Perfume  Rosa Nobile      4.5    79               \n",
              "6 1284462 Acqua Di Parma Cologne  Colonia Essenza  5.0    13               \n",
              "  love price MarketingFlags how_to_use\n",
              "1 2700  66   online only    0         \n",
              "2 2600 180   online only    0         \n",
              "3 2900 120   online only    0         \n",
              "4 2600 180   online only    0         \n",
              "5 5000 210   online only    0         \n",
              "6  719 120   online only    0         "
            ]
          },
          "metadata": {}
        }
      ]
    },
    {
      "cell_type": "code",
      "source": [
        "# Display the structure of the dataset\n",
        "str(sephora_df)"
      ],
      "metadata": {
        "colab": {
          "base_uri": "https://localhost:8080/"
        },
        "id": "gRlP7tYtXpDR",
        "outputId": "19a1fc05-2aa1-4229-ba5e-d958b67a3165"
      },
      "execution_count": 5,
      "outputs": [
        {
          "output_type": "stream",
          "name": "stdout",
          "text": [
            "tibble [8,616 × 10] (S3: tbl_df/tbl/data.frame)\n",
            " $ id               : num [1:8616] 2044816 1417567 1417617 1417609 1638832 ...\n",
            " $ brand            : chr [1:8616] \"Acqua Di Parma\" \"Acqua Di Parma\" \"Acqua Di Parma\" \"Acqua Di Parma\" ...\n",
            " $ category         : chr [1:8616] \"Cologne\" \"Perfume\" \"Perfume\" \"Perfume\" ...\n",
            " $ name             : chr [1:8616] \"Colonia\" \"Arancia di Capri\" \"Mirto di Panarea\" \"Fico di Amalfi\" ...\n",
            " $ rating           : num [1:8616] 4.5 4.5 4.5 4.5 4.5 5 4.5 4.5 4.5 4.5 ...\n",
            " $ number_of_reviews: num [1:8616] 76 26 23 79 79 13 16 19 44 6 ...\n",
            " $ love             : num [1:8616] 2700 2600 2900 2600 5000 719 1900 2300 2900 306 ...\n",
            " $ price            : num [1:8616] 66 180 120 180 210 120 120 142 120 120 ...\n",
            " $ MarketingFlags   : chr [1:8616] \"online only\" \"online only\" \"online only\" \"online only\" ...\n",
            " $ how_to_use       : num [1:8616] 0 0 0 0 0 0 0 0 0 0 ...\n"
          ]
        }
      ]
    },
    {
      "cell_type": "code",
      "source": [
        "# Summary of the dataset\n",
        "summary(sephora_df)"
      ],
      "metadata": {
        "colab": {
          "base_uri": "https://localhost:8080/",
          "height": 382
        },
        "id": "_wq0rrzTXyOk",
        "outputId": "2df26e9e-155c-42f6-c9b5-9fb9d20c80dc"
      },
      "execution_count": 7,
      "outputs": [
        {
          "output_type": "display_data",
          "data": {
            "text/plain": [
              "       id             brand             category             name          \n",
              " Min.   :   6528   Length:8616        Length:8616        Length:8616       \n",
              " 1st Qu.:1802284   Class :character   Class :character   Class :character  \n",
              " Median :2059050   Mode  :character   Mode  :character   Mode  :character  \n",
              " Mean   :1949372                                                           \n",
              " 3rd Qu.:2216502                                                           \n",
              " Max.   :2358570                                                           \n",
              "     rating      number_of_reviews      love             price       \n",
              " Min.   :1.000   Min.   :    1.0   Min.   :     20   Min.   :  2.00  \n",
              " 1st Qu.:4.000   1st Qu.:   14.0   1st Qu.:   2000   1st Qu.: 25.00  \n",
              " Median :4.500   Median :   55.0   Median :   5400   Median : 35.00  \n",
              " Mean   :4.171   Mean   :  298.2   Mean   :  17288   Mean   : 50.28  \n",
              " 3rd Qu.:4.500   3rd Qu.:  230.0   3rd Qu.:  14800   3rd Qu.: 59.00  \n",
              " Max.   :5.000   Max.   :19000.0   Max.   :1300000   Max.   :549.00  \n",
              " MarketingFlags       how_to_use    \n",
              " Length:8616        Min.   :0.0000  \n",
              " Class :character   1st Qu.:1.0000  \n",
              " Mode  :character   Median :1.0000  \n",
              "                    Mean   :0.8273  \n",
              "                    3rd Qu.:1.0000  \n",
              "                    Max.   :1.0000  "
            ]
          },
          "metadata": {}
        }
      ]
    },
    {
      "cell_type": "code",
      "source": [
        "# Display the number of missing values for each feature\n",
        "print(colSums(is.na(sephora_df)))"
      ],
      "metadata": {
        "colab": {
          "base_uri": "https://localhost:8080/"
        },
        "id": "ExLfX8oDcBjI",
        "outputId": "96045f1f-3145-415b-9634-83548d6c3050"
      },
      "execution_count": 8,
      "outputs": [
        {
          "output_type": "stream",
          "name": "stdout",
          "text": [
            "               id             brand          category              name \n",
            "                0                 0                 0                 0 \n",
            "           rating number_of_reviews              love             price \n",
            "                0                 0                 0                 0 \n",
            "   MarketingFlags        how_to_use \n",
            "             4624                 0 \n"
          ]
        }
      ]
    },
    {
      "cell_type": "code",
      "source": [
        "cat_features_list <- c('MarketingFlags', 'how_to_use')  # Replace these with actual column names\n",
        "\n",
        "# Display the unique values of each specified feature\n",
        "print(lapply(sephora_df[, cat_features_list], unique))"
      ],
      "metadata": {
        "colab": {
          "base_uri": "https://localhost:8080/"
        },
        "id": "pkVMQq0Pcm-T",
        "outputId": "ebd95796-75a9-4163-a823-15a3803e3d91"
      },
      "execution_count": 10,
      "outputs": [
        {
          "output_type": "stream",
          "name": "stdout",
          "text": [
            "$MarketingFlags\n",
            "[1] \"online only\"     NA                \"exclusive\"       \"limited edition\"\n",
            "\n",
            "$how_to_use\n",
            "[1] 0 1\n",
            "\n"
          ]
        }
      ]
    },
    {
      "cell_type": "code",
      "source": [
        "sephora_df$how_to_use <- factor(sephora_df$how_to_use)\n",
        "sephora_df$MarketingFlags <- factor(sephora_df$MarketingFlags)"
      ],
      "metadata": {
        "id": "m3Q4ySlBdiYz"
      },
      "execution_count": 11,
      "outputs": []
    },
    {
      "cell_type": "code",
      "source": [
        "str(sephora_df)"
      ],
      "metadata": {
        "colab": {
          "base_uri": "https://localhost:8080/"
        },
        "id": "-LgzwMwW1E1w",
        "outputId": "cfe33f06-0aa4-402b-eec3-3f65ddfce9c2"
      },
      "execution_count": 12,
      "outputs": [
        {
          "output_type": "stream",
          "name": "stdout",
          "text": [
            "tibble [8,616 × 10] (S3: tbl_df/tbl/data.frame)\n",
            " $ id               : num [1:8616] 2044816 1417567 1417617 1417609 1638832 ...\n",
            " $ brand            : chr [1:8616] \"Acqua Di Parma\" \"Acqua Di Parma\" \"Acqua Di Parma\" \"Acqua Di Parma\" ...\n",
            " $ category         : chr [1:8616] \"Cologne\" \"Perfume\" \"Perfume\" \"Perfume\" ...\n",
            " $ name             : chr [1:8616] \"Colonia\" \"Arancia di Capri\" \"Mirto di Panarea\" \"Fico di Amalfi\" ...\n",
            " $ rating           : num [1:8616] 4.5 4.5 4.5 4.5 4.5 5 4.5 4.5 4.5 4.5 ...\n",
            " $ number_of_reviews: num [1:8616] 76 26 23 79 79 13 16 19 44 6 ...\n",
            " $ love             : num [1:8616] 2700 2600 2900 2600 5000 719 1900 2300 2900 306 ...\n",
            " $ price            : num [1:8616] 66 180 120 180 210 120 120 142 120 120 ...\n",
            " $ MarketingFlags   : Factor w/ 3 levels \"exclusive\",\"limited edition\",..: 3 3 3 3 3 3 NA 3 3 3 ...\n",
            " $ how_to_use       : Factor w/ 2 levels \"0\",\"1\": 1 1 1 1 1 1 1 1 1 1 ...\n"
          ]
        }
      ]
    },
    {
      "cell_type": "code",
      "source": [
        "# Bar plot for Marketing Flags\n",
        "ggplot(sephora_df, aes(x = MarketingFlags)) +\n",
        "  geom_bar() +\n",
        "  labs(title = \"Bar Plot of Marketing Flags\", x = \"Marketing Flags\", y = \"Count\")"
      ],
      "metadata": {
        "colab": {
          "base_uri": "https://localhost:8080/",
          "height": 437
        },
        "id": "539AFJBn1PGR",
        "outputId": "244c30fb-1603-4170-9318-4c651bc64cee"
      },
      "execution_count": 17,
      "outputs": [
        {
          "output_type": "display_data",
          "data": {
            "text/plain": [
              "plot without title"
            ],
            "image/png": "[encoded data removed]"
          },
          "metadata": {
            "image/png": {
              "width": 420,
              "height": 420
            }
          }
        }
      ]
    },
    {
      "cell_type": "code",
      "source": [
        "print(table(sephora_df$MarketingFlags))"
      ],
      "metadata": {
        "colab": {
          "base_uri": "https://localhost:8080/"
        },
        "id": "gJWJwaUT3-Op",
        "outputId": "93dd41f2-b431-42e0-faf9-bf553bfa1195"
      },
      "execution_count": 19,
      "outputs": [
        {
          "output_type": "stream",
          "name": "stdout",
          "text": [
            "\n",
            "      exclusive limited edition     online only \n",
            "           1589             588            1815 \n"
          ]
        }
      ]
    },
    {
      "cell_type": "code",
      "source": [
        "# Bar plot for Marketing Flags\n",
        "ggplot(sephora_df, aes(x = how_to_use)) +\n",
        "  geom_bar() +\n",
        "  labs(title = \"Bar Plot of Product Description\", x = \"Description in Products\", y = \"Count\")"
      ],
      "metadata": {
        "colab": {
          "base_uri": "https://localhost:8080/",
          "height": 437
        },
        "id": "ICWDFCYl3L3q",
        "outputId": "4d13690b-f481-4d5a-b2d4-f447c7c1b24d"
      },
      "execution_count": 18,
      "outputs": [
        {
          "output_type": "display_data",
          "data": {
            "text/plain": [
              "plot without title"
            ],
            "image/png": "[encoded data removed]"
          },
          "metadata": {
            "image/png": {
              "width": 420,
              "height": 420
            }
          }
        }
      ]
    },
    {
      "cell_type": "code",
      "source": [
        "print(table(sephora_df$how_to_use))"
      ],
      "metadata": {
        "colab": {
          "base_uri": "https://localhost:8080/"
        },
        "id": "E1pXHUaX3vHn",
        "outputId": "683d2638-2f53-4129-e18a-6d632942ae55"
      },
      "execution_count": 20,
      "outputs": [
        {
          "output_type": "stream",
          "name": "stdout",
          "text": [
            "\n",
            "   0    1 \n",
            "1488 7128 \n"
          ]
        }
      ]
    },
    {
      "cell_type": "code",
      "source": [
        "print(sephora_df %>%\n",
        "  filter(how_to_use %in% c(0, 1)) %>%\n",
        "  group_by(how_to_use, MarketingFlags) %>%\n",
        "  summarise(count = n()))"
      ],
      "metadata": {
        "colab": {
          "base_uri": "https://localhost:8080/"
        },
        "id": "iBFMnLdT6AQW",
        "outputId": "0d3ecc32-36c8-4967-cd31-9c5eff6a5d4e"
      },
      "execution_count": 22,
      "outputs": [
        {
          "output_type": "stream",
          "name": "stderr",
          "text": [
            "\u001b[1m\u001b[22m`summarise()` has grouped output by 'how_to_use'. You can override using the\n",
            "`.groups` argument.\n"
          ]
        },
        {
          "output_type": "stream",
          "name": "stdout",
          "text": [
            "\u001b[90m# A tibble: 8 × 3\u001b[39m\n",
            "\u001b[90m# Groups:   how_to_use [2]\u001b[39m\n",
            "  how_to_use MarketingFlags  count\n",
            "  \u001b[3m\u001b[90m<fct>\u001b[39m\u001b[23m      \u001b[3m\u001b[90m<fct>\u001b[39m\u001b[23m           \u001b[3m\u001b[90m<int>\u001b[39m\u001b[23m\n",
            "\u001b[90m1\u001b[39m 0          exclusive         187\n",
            "\u001b[90m2\u001b[39m 0          limited edition   105\n",
            "\u001b[90m3\u001b[39m 0          online only       347\n",
            "\u001b[90m4\u001b[39m 0          \u001b[31mNA\u001b[39m                849\n",
            "\u001b[90m5\u001b[39m 1          exclusive        \u001b[4m1\u001b[24m402\n",
            "\u001b[90m6\u001b[39m 1          limited edition   483\n",
            "\u001b[90m7\u001b[39m 1          online only      \u001b[4m1\u001b[24m468\n",
            "\u001b[90m8\u001b[39m 1          \u001b[31mNA\u001b[39m               \u001b[4m3\u001b[24m775\n"
          ]
        }
      ]
    },
    {
      "cell_type": "code",
      "source": [],
      "metadata": {
        "id": "6AjjbYkt65tx"
      },
      "execution_count": null,
      "outputs": []
    }
  ]
}